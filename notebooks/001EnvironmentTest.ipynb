{
 "cells": [
  {
   "cell_type": "code",
   "execution_count": 3,
   "id": "f97e8195",
   "metadata": {},
   "outputs": [
    {
     "name": "stderr",
     "output_type": "stream",
     "text": [
      "\u001b[32m\u001b[1m  Activating\u001b[22m\u001b[39m project at `~/.julia/dev/ModularEIT`\n",
      "┌ Warning: The project dependencies or compat requirements have changed since the manifest was last resolved.\n",
      "│ It is recommended to `Pkg.resolve()` or consider `Pkg.update()` if necessary.\n",
      "└ @ Pkg.API /home/daniel/.julia/juliaup/julia-1.11.6+0.x64.linux.gnu/share/julia/stdlib/v1.11/Pkg/src/API.jl:1206\n"
     ]
    },
    {
     "ename": "LoadError",
     "evalue": "LoadError: `IterativeSolvers` is a direct dependency, but does not appear in the manifest. If you intend `IterativeSolvers` to be a direct dependency, run `Pkg.resolve()` to populate the manifest. Otherwise, remove `IterativeSolvers` with `Pkg.rm(\"IterativeSolvers\")`. Finally, run `Pkg.instantiate()` again.\nin expression starting at /home/daniel/Code/Julia/Link to ModularEIT/notebooks/run_notebook.jl:3",
     "output_type": "error",
     "traceback": [
      "LoadError: `IterativeSolvers` is a direct dependency, but does not appear in the manifest. If you intend `IterativeSolvers` to be a direct dependency, run `Pkg.resolve()` to populate the manifest. Otherwise, remove `IterativeSolvers` with `Pkg.rm(\"IterativeSolvers\")`. Finally, run `Pkg.instantiate()` again.\n",
      "in expression starting at /home/daniel/Code/Julia/Link to ModularEIT/notebooks/run_notebook.jl:3\n",
      "\n",
      "Stacktrace:\n",
      " [1] pkgerror(::String, ::Vararg{String})\n",
      "   @ Pkg.Types ~/.julia/juliaup/julia-1.11.6+0.x64.linux.gnu/share/julia/stdlib/v1.11/Pkg/src/Types.jl:68\n",
      " [2] instantiate(ctx::Pkg.Types.Context; manifest::Nothing, update_registry::Bool, verbose::Bool, platform::Base.BinaryPlatforms.Platform, allow_build::Bool, allow_autoprecomp::Bool, kwargs::@Kwargs{})\n",
      "   @ Pkg.API ~/.julia/juliaup/julia-1.11.6+0.x64.linux.gnu/share/julia/stdlib/v1.11/Pkg/src/API.jl:1213\n",
      " [3] instantiate\n",
      "   @ ~/.julia/juliaup/julia-1.11.6+0.x64.linux.gnu/share/julia/stdlib/v1.11/Pkg/src/API.jl:1172 [inlined]\n",
      " [4] instantiate(; kwargs::@Kwargs{})\n",
      "   @ Pkg.API ~/.julia/juliaup/julia-1.11.6+0.x64.linux.gnu/share/julia/stdlib/v1.11/Pkg/src/API.jl:1171\n",
      " [5] top-level scope\n",
      "   @ ~/Code/Julia/Link to ModularEIT/notebooks/run_notebook.jl:3"
     ]
    }
   ],
   "source": [
    "include(\"run_notebook.jl\")"
   ]
  },
  {
   "cell_type": "code",
   "execution_count": null,
   "id": "9e2809a3",
   "metadata": {},
   "outputs": [],
   "source": []
  }
 ],
 "metadata": {
  "kernelspec": {
   "display_name": "Julia 1.11.6",
   "language": "julia",
   "name": "julia-1.11"
  },
  "language_info": {
   "file_extension": ".jl",
   "mimetype": "application/julia",
   "name": "julia",
   "version": "1.11.6"
  }
 },
 "nbformat": 4,
 "nbformat_minor": 5
}
